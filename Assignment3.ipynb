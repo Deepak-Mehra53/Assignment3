{
 "cells": [
  {
   "cell_type": "code",
   "execution_count": 3,
   "id": "e31615ec-5c0d-46f0-8d18-47ed97aa2add",
   "metadata": {},
   "outputs": [
    {
     "name": "stdout",
     "output_type": "stream",
     "text": [
      "2\n",
      "4\n",
      "6\n",
      "8\n",
      "10\n",
      "12\n",
      "14\n",
      "16\n",
      "18\n",
      "20\n",
      "22\n",
      "24\n"
     ]
    }
   ],
   "source": [
    "''' Q1. Which keyword is used to create a function? Create a function to return a list of odd numbers in the\n",
    "range of 1 to 25. \n",
    "\n",
    "Ans:- 1. def keyword is used to create a function.\n",
    "      2. Program:-   '''\n",
    "\n",
    "def odd_no():\n",
    "    for i in range(1, 26):\n",
    "        if(i%2==0):\n",
    "            print(i)\n",
    "        \n",
    "        \n",
    "odd_no()"
   ]
  },
  {
   "cell_type": "code",
   "execution_count": 14,
   "id": "18f87320-3168-4b0a-a419-ecffb9c7d10e",
   "metadata": {},
   "outputs": [
    {
     "name": "stdout",
     "output_type": "stream",
     "text": [
      "Program of args:-\n",
      "Deepak\n",
      "Data Science\n",
      "PW Skills\n",
      " \n",
      "Program of kwargs:-\n",
      "name Deepak\n",
      "age 21\n",
      "city Hisar\n"
     ]
    }
   ],
   "source": [
    "'''Q2. Why *args and **kwargs is used in some functions? Create a function each for *args and **kwargs\n",
    "to demonstrate their use.\n",
    "\n",
    "Ans:- *args :- *args  allow us to pass the variable number of non keyword arguments to function.\n",
    "      *kwargs :-  it allows us to pass the variable length of keyword arguments to the function.\n",
    "      \n",
    "      2. Program:- '''\n",
    "\n",
    "# Program of *args:-\n",
    "\n",
    "def argu(*args):\n",
    "    print(\"Program of args:-\")\n",
    "    for item in args:\n",
    "        print(item)\n",
    " \n",
    "argu(\"Deepak\", \"Data Science\", \"PW Skills\")\n",
    "\n",
    "# Program of **kwargs:-\n",
    " \n",
    "def kwar(**kwargs):\n",
    "    print(\" \")\n",
    "    print(\"Program of kwargs:-\")\n",
    "    for key,val in kwargs.items():\n",
    "        print(key,val)\n",
    "        \n",
    "        \n",
    "kwar(name=\"Deepak\", age=21, city=\"Hisar\")\n",
    "\n",
    "\n"
   ]
  },
  {
   "cell_type": "code",
   "execution_count": 7,
   "id": "3f1e2fe2-0838-41c0-ad6b-c88aa536d24c",
   "metadata": {},
   "outputs": [
    {
     "name": "stdout",
     "output_type": "stream",
     "text": [
      "2\n",
      "4\n",
      "6\n",
      "8\n",
      "10\n"
     ]
    }
   ],
   "source": [
    "''' Q3. What is an iterator in python? Name the method used to initialise the iterator object and the method\n",
    "used for iteration. Use these methods to print the first five elements of the given list [2, 4, 6, 8, 10, 12, 14,\n",
    "16, 18, 20].\n",
    "\n",
    "Ans:-  It allows usj to traverse through a sequence of elements, one at a time, without having to load the entire sequence into memory.\n",
    "       To initialize the iterator object, the method used is __iter__().\n",
    "       For iteration, the method used is __next__().\n",
    "       \n",
    "Program:- '''\n",
    "\n",
    "list = [2,4,6,8,10,12,14]\n",
    "\n",
    "myiter= iter(list)\n",
    "\n",
    "for i in range(5):\n",
    "    print(next(myiter))"
   ]
  },
  {
   "cell_type": "code",
   "execution_count": 1,
   "id": "ea2885a5-26fc-4292-93a3-a62b13663153",
   "metadata": {},
   "outputs": [
    {
     "name": "stdout",
     "output_type": "stream",
     "text": [
      "1\n",
      "4\n",
      "9\n",
      "16\n",
      "25\n"
     ]
    }
   ],
   "source": [
    "'''Q4. What is a generator function in python? Why yield keyword is used? Give an example of a generator\n",
    "function.\n",
    "\n",
    "Ans:-  A generator function as a special kind of function that can pause its execution and remember where it left off.\n",
    "      Instead of returning a single value, it produces a series of values over time using the yield keyword. \n",
    "      \n",
    "      yield :- he yield keyword in a Python generator function is used to produce a value in the sequence and pause the function's execution, \n",
    "    saving its state. When the generator is called again, it resumes from where it was paused, maintaining the local variables and their values.\n",
    "    \n",
    "Program:- '''\n",
    "\n",
    "def square_generator(limit):\n",
    "    n = 1\n",
    "    while n <= limit:\n",
    "        yield n * n\n",
    "        n += 1\n",
    "\n",
    "# Using the generator\n",
    "my_generator = square_generator(5)\n",
    "\n",
    "for squared_number in my_generator:\n",
    "    print(squared_number)\n"
   ]
  },
  {
   "cell_type": "code",
   "execution_count": 2,
   "id": "1a7eb83d-3832-415a-969b-c5ebc9532c36",
   "metadata": {},
   "outputs": [
    {
     "name": "stdout",
     "output_type": "stream",
     "text": [
      "2\n",
      "3\n",
      "5\n",
      "7\n",
      "11\n",
      "13\n",
      "17\n",
      "19\n",
      "23\n",
      "29\n",
      "31\n",
      "37\n",
      "41\n",
      "43\n",
      "47\n",
      "53\n",
      "59\n",
      "61\n",
      "67\n",
      "71\n"
     ]
    }
   ],
   "source": [
    "'''Q5. Create a generator function for prime numbers less than 1000. Use the next() method to print the\n",
    "first 20 prime numbers.\n",
    "\n",
    "Ans:- '''\n",
    "def is_prime(num):\n",
    "    if num < 2:\n",
    "        return False\n",
    "    for i in range(2, int(num**0.5) + 1):\n",
    "        if num % i == 0:\n",
    "            return False\n",
    "    return True\n",
    "\n",
    "def prime_generator():\n",
    "    num = 2\n",
    "    count = 0\n",
    "    while count < 20:\n",
    "        if is_prime(num):\n",
    "            yield num\n",
    "            count += 1\n",
    "        num += 1\n",
    "\n",
    "\n",
    "my_prime_generator = prime_generator()\n",
    "\n",
    "for _ in range(20):\n",
    "    print(next(my_prime_generator))"
   ]
  },
  {
   "cell_type": "code",
   "execution_count": 3,
   "id": "fcc7f738-a674-4d21-8bdc-1830534ec605",
   "metadata": {},
   "outputs": [
    {
     "name": "stdout",
     "output_type": "stream",
     "text": [
      "The first 10 Fibonacci numbers are: [0, 1, 1, 2, 3, 5, 8, 13, 21, 34]\n"
     ]
    }
   ],
   "source": [
    "'''Q6. Write a python program to print the first 10 Fibonacci numbers using a while loop. '''\n",
    "\n",
    "def fibonacci(n):\n",
    "    fib_list = [0, 1]\n",
    "    while len(fib_list) < n:\n",
    "        fib_list.append(fib_list[-1] + fib_list[-2])\n",
    "    return fib_list\n",
    "\n",
    "\n",
    "fibonacci_numbers = fibonacci(10)\n",
    "print(\"The first 10 Fibonacci numbers are:\", fibonacci_numbers)"
   ]
  },
  {
   "cell_type": "code",
   "execution_count": 4,
   "id": "6e4e0c80-f86f-4eef-847f-efa0e11f6b16",
   "metadata": {},
   "outputs": [
    {
     "name": "stdout",
     "output_type": "stream",
     "text": [
      "['p', 'w', 's', 'k', 'i', 'l', 'l', 's']\n"
     ]
    }
   ],
   "source": [
    "'''Q7. Write a List Comprehension to iterate through the given string: ‘pwskills’.\n",
    "Expected output: ['p', 'w', 's', 'k', 'i', 'l', 'l', 's']'''\n",
    "\n",
    "input_string = 'pwskills'\n",
    "\n",
    "result_list = [char for char in input_string]\n",
    "\n",
    "print(result_list)"
   ]
  },
  {
   "cell_type": "code",
   "execution_count": 5,
   "id": "a9fde48f-d70b-4fab-ab0a-114d59205e6d",
   "metadata": {},
   "outputs": [
    {
     "name": "stdin",
     "output_type": "stream",
     "text": [
      "Enter a number to check for palindrome:  222\n"
     ]
    },
    {
     "name": "stdout",
     "output_type": "stream",
     "text": [
      "222 is a palindrome!\n"
     ]
    }
   ],
   "source": [
    "'''Q8. Write a python program to check whether a given number is Palindrome or not using a while loop.'''\n",
    "\n",
    "def is_palindrome(number):\n",
    "    original_number = number\n",
    "    reversed_number = 0\n",
    "\n",
    "    while number > 0:\n",
    "        digit = number % 10\n",
    "        reversed_number = reversed_number * 10 + digit\n",
    "        number = number // 10\n",
    "\n",
    "    return original_number == reversed_number\n",
    "\n",
    "# Get user input\n",
    "user_input = int(input(\"Enter a number to check for palindrome: \"))\n",
    "\n",
    "\n",
    "if is_palindrome(user_input):\n",
    "    print(f\"{user_input} is a palindrome!\")\n",
    "else:\n",
    "    print(f\"{user_input} is not a palindrome.\")"
   ]
  },
  {
   "cell_type": "code",
   "execution_count": 6,
   "id": "f0f7346d-e41d-4d2c-afed-38f01c7dea67",
   "metadata": {},
   "outputs": [
    {
     "name": "stdout",
     "output_type": "stream",
     "text": [
      "Odd numbers from 1 to 100: [1, 3, 5, 7, 9, 11, 13, 15, 17, 19, 21, 23, 25, 27, 29, 31, 33, 35, 37, 39, 41, 43, 45, 47, 49, 51, 53, 55, 57, 59, 61, 63, 65, 67, 69, 71, 73, 75, 77, 79, 81, 83, 85, 87, 89, 91, 93, 95, 97, 99]\n"
     ]
    }
   ],
   "source": [
    "'''Q9. Write a code to print odd numbers from 1 to 100 using list comprehension.\n",
    "Note: Use a list comprehension to create a list from 1 to 100 and use another List comprehension to filter\n",
    "out odd numbers. '''\n",
    "\n",
    "numbers = [x for x in range(1, 101)]\n",
    "\n",
    "# Using another list comprehension to filter out odd numbers\n",
    "odd_numbers = [x for x in numbers if x % 2 != 0]\n",
    "\n",
    "print(\"Odd numbers from 1 to 100:\", odd_numbers)"
   ]
  },
  {
   "cell_type": "code",
   "execution_count": null,
   "id": "06690662-09cd-4fd6-9641-90e9c174ae1b",
   "metadata": {},
   "outputs": [],
   "source": []
  }
 ],
 "metadata": {
  "kernelspec": {
   "display_name": "Python 3 (ipykernel)",
   "language": "python",
   "name": "python3"
  },
  "language_info": {
   "codemirror_mode": {
    "name": "ipython",
    "version": 3
   },
   "file_extension": ".py",
   "mimetype": "text/x-python",
   "name": "python",
   "nbconvert_exporter": "python",
   "pygments_lexer": "ipython3",
   "version": "3.10.8"
  }
 },
 "nbformat": 4,
 "nbformat_minor": 5
}
